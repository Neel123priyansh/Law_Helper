{
 "cells": [
  {
   "cell_type": "code",
   "execution_count": null,
   "id": "69129fb3",
   "metadata": {},
   "outputs": [],
   "source": [
    "import cv2\n",
    "import pytesseract\n",
    "\n",
    "def ocrcore(img):\n",
    "    text = pytesseract.image_to_string(img)\n",
    "    return text\n",
    "\n",
    "img = cv2.imread('ocr_s.png')"
   ]
  },
  {
   "cell_type": "code",
   "execution_count": null,
   "id": "1a02e4af",
   "metadata": {},
   "outputs": [],
   "source": [
    "def get_greyScale(img):\n",
    "    return cv2.cvtColor(img, cv2.COLOR_BGR2GRAY)\n",
    "\n",
    "def remove_noise(img):\n",
    "    return cv2.medianBlur(img, 5)\n",
    "\n",
    "def thresholding(img):\n",
    "    return cv2.threshold(img, 0, 225, cv2.THRESH_BINARY + cv2.THRESH_OTUS)[1]"
   ]
  }
 ],
 "metadata": {
  "language_info": {
   "name": "python"
  }
 },
 "nbformat": 4,
 "nbformat_minor": 5
}
